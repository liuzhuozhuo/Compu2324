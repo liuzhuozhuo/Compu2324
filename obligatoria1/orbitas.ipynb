{
 "cells": [
  {
   "cell_type": "code",
   "execution_count": null,
   "metadata": {},
   "outputs": [],
   "source": [
    "import numpy as np\n",
    "import pandas as pd\n",
    "\n"
   ]
  },
  {
   "cell_type": "code",
   "execution_count": null,
   "metadata": {},
   "outputs": [],
   "source": [
    "#Defining the rescale units, and some constants\n",
    "G = 6.67408e-11 #N m2/kg2\n",
    "M_s = 1.989e+30 #kg #mass of the sun\n",
    "c = 1.496e+11 #m #astronomic unit"
   ]
  },
  {
   "cell_type": "code",
   "execution_count": null,
   "metadata": {},
   "outputs": [],
   "source": [
    "t = np.arange()"
   ]
  },
  {
   "cell_type": "markdown",
   "metadata": {},
   "source": [
    "We need to be able to calculate the force between planets. But we are more interestet in the net acceleration of the planets\n",
    "\n",
    "So the acceleration functions takes the current position of the planets, and return a matrix (3xN) with the net acceleration of the planets."
   ]
  },
  {
   "cell_type": "code",
   "execution_count": null,
   "metadata": {},
   "outputs": [],
   "source": [
    "def acceleration (r):\n",
    "    N = np.shape(r)[0]\n",
    "    a = np.zeros((N, 3))\n",
    "    R = np.zeros((N, N, 3))\n",
    "    R_mod = np.zeros((N, N))\n",
    "\n",
    "    for i in range(N-1):\n",
    "        for j in range(i+1, N):\n",
    "            for k in range(3):\n",
    "                R[i][j][k] = r[i][k]-[j][k]\n",
    "            R_mod[i][j] = np.linalg.norm(R[i][j])\n",
    "\n",
    "    for i in range(N-1):\n",
    "        for k in range\n",
    "                \n",
    "\n",
    "\n",
    "    return "
   ]
  },
  {
   "cell_type": "markdown",
   "metadata": {},
   "source": [
    "Define the function for the Verlet algorithm"
   ]
  },
  {
   "cell_type": "code",
   "execution_count": null,
   "metadata": {},
   "outputs": [],
   "source": [
    "def verlet_alg(r_0, v_0):\n",
    "    for i in range():\n",
    "        \n",
    "    return 0"
   ]
  },
  {
   "cell_type": "markdown",
   "metadata": {},
   "source": [
    "To check the conservation of energy, let's define a energy functions that returns the total energy of the system."
   ]
  },
  {
   "cell_type": "code",
   "execution_count": null,
   "metadata": {},
   "outputs": [],
   "source": [
    "def energy():\n",
    "    return"
   ]
  }
 ],
 "metadata": {
  "kernelspec": {
   "display_name": "base",
   "language": "python",
   "name": "python3"
  },
  "language_info": {
   "name": "python",
   "version": "3.10.13"
  }
 },
 "nbformat": 4,
 "nbformat_minor": 2
}
