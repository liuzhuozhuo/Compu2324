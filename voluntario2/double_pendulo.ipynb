{
 "cells": [
  {
   "cell_type": "code",
   "execution_count": null,
   "metadata": {},
   "outputs": [],
   "source": [
    "import numpy as np\n",
    "import matplotlib.pyplot as plt"
   ]
  },
  {
   "cell_type": "code",
   "execution_count": null,
   "metadata": {},
   "outputs": [],
   "source": [
    "g = 9.81\n"
   ]
  },
  {
   "cell_type": "markdown",
   "metadata": {},
   "source": [
    "vec_angulos = [$\\phi$, $\\psi$, $p_\\phi$, $p_\\psi$]"
   ]
  },
  {
   "cell_type": "code",
   "execution_count": null,
   "metadata": {},
   "outputs": [],
   "source": [
    "def function (vec_angulos, t):\n",
    "    div = 2-np.cos(vec_angulos[0]-vec_angulos[1])**2    \n",
    "    pphi_dot = -(2*(vec_angulos[2]*np.cos(vec_angulos[0]-vec_angulos[1])-2*vec_angulos[3])*(vec_angulos[3]*np.cos(vec_angulos[0]-vec_angulos[1]))*np.sin(vec_angulos[0]-vec_angulos[1]))/div**2 - 2*g*np.sin(vec_angulos[0])\n",
    "    ppsi_dot = -(2*(vec_angulos[2]*np.cos(vec_angulos[1]-vec_angulos[0])-2*vec_angulos[3])*(vec_angulos[3]*np.cos(vec_angulos[1]-vec_angulos[0]))*np.sin(vec_angulos[1]-vec_angulos[0]))/div**2 - g*np.sin(vec_angulos[1]) \n",
    "    phi_dot = (vec_angulos[2]-vec_angulos[3]*np.cos(vec_angulos[1]-vec_angulos[0]))/div\n",
    "    psi_dot = (2*vec_angulos[3]-vec_angulos[2]*np.cos(vec_angulos[1]-vec_angulos[0]))/div\n",
    "\n",
    "    return np.array([phi_dot, psi_dot, pphi_dot, ppsi_dot])\n"
   ]
  },
  {
   "cell_type": "code",
   "execution_count": null,
   "metadata": {},
   "outputs": [],
   "source": [
    "def Runge_Kutta (vec_angulos, h, t):\n",
    "    k_1 = h*function(vec_angulos, t)\n",
    "    k_2 = h*function(vec_angulos + k_1/2, t + h/2)\n",
    "    k_3 = h*function(vec_angulos + k_2/2, t + h/2)\n",
    "    k_4 = h*function(vec_angulos + k_3, t + h)\n",
    "\n",
    "    return vec_angulos + (k_1 + k_2 + k_3 + k_4)/6"
   ]
  }
 ],
 "metadata": {
  "kernelspec": {
   "display_name": "base",
   "language": "python",
   "name": "python3"
  },
  "language_info": {
   "codemirror_mode": {
    "name": "ipython",
    "version": 3
   },
   "file_extension": ".py",
   "mimetype": "text/x-python",
   "name": "python",
   "nbconvert_exporter": "python",
   "pygments_lexer": "ipython3",
   "version": "3.10.13"
  }
 },
 "nbformat": 4,
 "nbformat_minor": 2
}
