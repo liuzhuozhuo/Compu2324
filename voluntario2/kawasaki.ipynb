{
 "cells": [
  {
   "cell_type": "code",
   "execution_count": null,
   "metadata": {},
   "outputs": [],
   "source": [
    "import numpy as np\n",
    "import matplotlib.pyplot as plt\n",
    "from numba import jit"
   ]
  },
  {
   "cell_type": "code",
   "execution_count": null,
   "metadata": {},
   "outputs": [],
   "source": [
    "#Inicializa las posiciones iniciales aleatorios\n",
    "@jit(nopython=True)\n",
    "def init_spins (N):\n",
    "    spins = np.random.choice(np.array([-1, 1]), (N,N))\n",
    "    return spins\n",
    "\n",
    "def energy(spins, N):\n",
    "    sum = 0\n",
    "    for i in range(N):\n",
    "        for j in range(1, N-1):\n",
    "            sum+= spins[i, j]*(spins[(i+1)%N, j] + spins[(i-1)%N, j] + spins[i, j+1] + spins[i, j-1])\n",
    "    return -sum/2\n",
    "\n",
    "def gen_dir():\n",
    "    dir_rand = np.random.randint(4)\n",
    "    if (dir_rand == 0):\n",
    "        dir = np.array([0, 1])\n",
    "    elif(dir_rand == 1):\n",
    "        dir = np.array([1, 0])\n",
    "    elif(dir_rand == 2):\n",
    "        dir = np.array([0, -1])\n",
    "    else:\n",
    "        dir = np.array([-1, 0])\n",
    "    return dir\n",
    "\n",
    "def diff_energy(spins, pos, dir, N):\n",
    "    inti_energy = spins[pos[0], pos[1]]*(spins[(pos[0]+1)%N, pos[1]] + spins[(pos[0]-1)%N, pos[1]] + spins[pos[0], pos[1]-1] + spins[pos[0], pos[1]+1]) + \n",
    "\n",
    "\n",
    "#Función que intercambia el valor del spin\n",
    "def moves_spin (spins, N, T):\n",
    "    #generate a random position\n",
    "    pos = np.array([np.random.randint(0, N), np.random.randint(1, N-1)])\n",
    "    dir = gen_dir()\n",
    "    \n",
    "    spins_prime = \n",
    "    "
   ]
  }
 ],
 "metadata": {
  "kernelspec": {
   "display_name": "base",
   "language": "python",
   "name": "python3"
  },
  "language_info": {
   "name": "python",
   "version": "3.10.13"
  }
 },
 "nbformat": 4,
 "nbformat_minor": 2
}
