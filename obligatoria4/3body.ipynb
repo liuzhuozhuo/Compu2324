{
 "cells": [
  {
   "cell_type": "code",
   "execution_count": 435,
   "metadata": {},
   "outputs": [],
   "source": [
    "import numpy as np\n",
    "from numba import jit\n",
    "import matplotlib.pyplot as plt\n",
    "from matplotlib.animation import FuncAnimation\n",
    "from matplotlib.animation import FFMpegWriter"
   ]
  },
  {
   "cell_type": "markdown",
   "metadata": {},
   "source": [
    "Declaramos las constantes del problema"
   ]
  },
  {
   "cell_type": "code",
   "execution_count": 436,
   "metadata": {},
   "outputs": [],
   "source": [
    "w = 2.6617e-6 #s^-1\n",
    "G = 6.67e-11\n",
    "d_TL = 3.844e8\n",
    "M_T = 5.9736e24\n",
    "M_L = 0.07349e24\n",
    "\n",
    "R_T = 6.378160e6\n",
    "R_L = 1.7374e6\n",
    "\n",
    "delta = G*M_T/d_TL**3\n",
    "nu = M_L/M_T\n",
    "\n",
    "v_02 = 148\n",
    "phi_init = np.pi/3\n",
    "\n",
    "pphi = 0\n",
    "pr = v_02**2\n",
    "\n",
    "n_interation = int(10e4)"
   ]
  },
  {
   "cell_type": "markdown",
   "metadata": {},
   "source": [
    "Asignamos la orbita para la Luna, y definimos las funciones con las ecuaciones diferenciales"
   ]
  },
  {
   "cell_type": "code",
   "execution_count": 437,
   "metadata": {},
   "outputs": [],
   "source": [
    "@jit(nopython = True)\n",
    "def polar_to_cart (r, phi):\n",
    "    x = np.zeros((2, len(r)))\n",
    "    for i in range(len(r)):\n",
    "        x[0, i] = r[i] * np.cos(phi[i])\n",
    "        x[1, i] = r[i] * np.sin(phi[i])\n",
    "    return x"
   ]
  },
  {
   "cell_type": "code",
   "execution_count": 438,
   "metadata": {},
   "outputs": [],
   "source": [
    "def coord_luna(h):\n",
    "    x = np.zeros((2, n_interation))\n",
    "    for i in range(n_interation):\n",
    "        x[0, i] = np.cos(w*i*h)\n",
    "        x[1, i] = np.sin(w*i*h)\n",
    "    return x"
   ]
  },
  {
   "cell_type": "markdown",
   "metadata": {},
   "source": [
    "Teniendo en cuenta que los vectores tienen la forma $\\text{vec}_\\text{Cohete} = (r, \\phi, p_r, p_{\\phi})$"
   ]
  },
  {
   "cell_type": "code",
   "execution_count": 439,
   "metadata": {},
   "outputs": [],
   "source": [
    "@jit(nopython = True)\n",
    "def function (vec_Cohete, t):\n",
    "    r_prime = (1+vec_Cohete[0]**2-2*vec_Cohete[0]*np.cos(vec_Cohete[1]-w*t))**(1/2)\n",
    "    \n",
    "    r_dot = vec_Cohete[2]\n",
    "    phi_dot = vec_Cohete[3]/(vec_Cohete[0]**2)\n",
    "    pr_dot = (vec_Cohete[3]**2/vec_Cohete[0]**3) - delta * ((1/vec_Cohete[0]**2) + nu*(vec_Cohete[0]- np.cos(vec_Cohete[1]-w*t))/r_prime**3)\n",
    "    pphi_dot = -delta*nu*vec_Cohete[0]*np.sin(vec_Cohete[1]-w*t)/r_prime**3\n",
    "    \n",
    "    return np.array([r_dot, phi_dot, pr_dot, pphi_dot])"
   ]
  },
  {
   "cell_type": "markdown",
   "metadata": {},
   "source": [
    "Algoritmo para Runge-Kutta"
   ]
  },
  {
   "cell_type": "code",
   "execution_count": 440,
   "metadata": {},
   "outputs": [],
   "source": [
    "@jit(nopython = True)\n",
    "def Runge_Kutta (vec_Cohete, h, t):\n",
    "    k_1 = h*function(vec_Cohete, t)\n",
    "    k_2 = h*function(vec_Cohete + k_1/2, t + h/2)\n",
    "    k_3 = h*function(vec_Cohete + k_2/2, t + h/2)\n",
    "    k_4 = h*function(vec_Cohete + k_3, t + h)\n",
    "\n",
    "    return vec_Cohete + (k_1 + k_2 + k_3 + k_4)/6"
   ]
  },
  {
   "cell_type": "markdown",
   "metadata": {},
   "source": [
    "Añadimos una función para determinar el paso $h$, que tomar en cada momento"
   ]
  },
  {
   "cell_type": "code",
   "execution_count": 441,
   "metadata": {},
   "outputs": [],
   "source": [
    "@jit(nopython = True)\n",
    "def run_code_h_cte ():\n",
    "    vec_Cohete_total = np.zeros((int(n_interation), 4))\n",
    "    vec_Cohete_total[0] = np.array([R_T/d_TL, phi_init, pr/(2*d_TL), pphi/(d_TL**2)])\n",
    "    t = 0\n",
    "    h = 200\n",
    "    for i in range(n_interation-1):\n",
    "        vec_Cohete_total[i+1] = Runge_Kutta(vec_Cohete_total[i], h, t)\n",
    "        t = t+ h\n",
    "    return vec_Cohete_total\n",
    "\n",
    "def run_code():\n",
    "    vec_Cohete_total = np.zeros((int(n_interation), 4))\n",
    "    vec_Cohete_total[0] = np.array([R_T/d_TL, phi_init, pr/(2*d_TL), pphi/(d_TL**2)])\n",
    "    t = 0\n",
    "    h = 60\n",
    "    epsilon_max = h**5\n",
    "    for i in range(n_interation-1):\n",
    "        s = 10\n",
    "        while (s > 2):\n",
    "            y_h1 = Runge_Kutta(vec_Cohete_total[i], h/2, t)\n",
    "            y_h2 = Runge_Kutta(y_h1, h/2, t )\n",
    "            y_h = Runge_Kutta(vec_Cohete_total[i], h, t)\n",
    "            epsilon = np.max(16*np.abs(y_h2-y_h)/15)\n",
    "            s = np.max([((epsilon/epsilon_max)**0.2, 1e-8)])\n",
    "            print(s)\n",
    "            h_max = h/s\n",
    "            print(h_max)\n",
    "            if(s > 2):\n",
    "                h = h_max   \n",
    "            else:\n",
    "                vec_Cohete_total[i+1] = y_h2\n",
    "            if(h < h_max):\n",
    "                h =2*h\n",
    "            print(h)\n",
    "        t = t+ h\n",
    "    return vec_Cohete_total"
   ]
  },
  {
   "cell_type": "code",
   "execution_count": 442,
   "metadata": {},
   "outputs": [],
   "source": [
    "vec_Cohete = run_code_h_cte()\n",
    "pos_cohete = polar_to_cart(vec_Cohete[:,0], vec_Cohete[:,1])\n",
    "pos_lunar = coord_luna(200)"
   ]
  },
  {
   "cell_type": "code",
   "execution_count": 443,
   "metadata": {},
   "outputs": [],
   "source": [
    "f = open(\"datos.txt\", \"w\")\n",
    "\n",
    "for i in range(int(n_interation)):\n",
    "    f.write(f\"{pos_cohete[0, i]}, {pos_cohete[1, i]}\\n\")\n",
    "    f.write(f\"{pos_lunar[0, i]}, {pos_lunar[1, i]}\\n\")\n",
    "    f.write(f\"0, 0\\n\")\n",
    "    f.write(f\"\\n\")\n",
    "\n",
    "f.close()"
   ]
  },
  {
   "cell_type": "code",
   "execution_count": 444,
   "metadata": {},
   "outputs": [
    {
     "data": {
      "text/plain": [
       "<matplotlib.collections.PathCollection at 0x1138df760>"
      ]
     },
     "execution_count": 444,
     "metadata": {},
     "output_type": "execute_result"
    },
    {
     "data": {
      "image/png": "[encoded data removed]",
      "text/plain": [
       "<Figure size 1000x700 with 1 Axes>"
      ]
     },
     "metadata": {},
     "output_type": "display_data"
    }
   ],
   "source": [
    "fig=plt.figure(figsize=(10,7)) #Size of the plot\n",
    "ax=fig.add_subplot(111)\n",
    "\n",
    "plt.scatter(pos_cohete[0], pos_cohete[1])"
   ]
  }
 ],
 "metadata": {
  "kernelspec": {
   "display_name": "base",
   "language": "python",
   "name": "python3"
  },
  "language_info": {
   "codemirror_mode": {
    "name": "ipython",
    "version": 3
   },
   "file_extension": ".py",
   "mimetype": "text/x-python",
   "name": "python",
   "nbconvert_exporter": "python",
   "pygments_lexer": "ipython3",
   "version": "3.10.13"
  }
 },
 "nbformat": 4,
 "nbformat_minor": 2
}
