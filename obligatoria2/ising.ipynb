{
 "cells": [
  {
   "cell_type": "markdown",
   "metadata": {},
   "source": [
    "Importamos los módulos necesarios "
   ]
  },
  {
   "cell_type": "code",
   "execution_count": 1,
   "metadata": {},
   "outputs": [],
   "source": [
    "import numpy as np\n",
    "import matplotlib.pyplot as plt\n",
    "from matplotlib import animation"
   ]
  },
  {
   "cell_type": "markdown",
   "metadata": {},
   "source": [
    "Definimos las funciones necesarias para el programa"
   ]
  },
  {
   "cell_type": "code",
   "execution_count": 2,
   "metadata": {},
   "outputs": [],
   "source": [
    "#Inicializa las posiciones iniciales aleatorios\n",
    "def init_spins (N):\n",
    "    spins = np.random.choice([-1, 1], (N,N))\n",
    "    return spins\n",
    "\n",
    "#Función que cambia el valor del spin\n",
    "def moves_spin (spins, N, T):\n",
    "    #generate a random position\n",
    "    pos = np.random.randint(0, N, size=(1, 2))[0]\n",
    "    d_energy = 2*spins[pos[0], pos[1]]*(spins[(pos[0]+1)%N, pos[1]] + spins[(pos[0]-1)%N, pos[1]] + spins[(pos[0]), (pos[1]-1)%N] + spins[(pos[0]), (pos[1]+1)%N] )\n",
    "    p = min(1, np.exp(-d_energy/T))\n",
    "    xi = np.random.rand()\n",
    "    if(xi < p):\n",
    "        spins[pos[0], pos[1]] = -spins[pos[0], pos[1]]\n",
    "    return spins\n",
    "\n",
    "#Función que devuelve la energía del sistema\n",
    "def energy(spins, N):\n",
    "    sum = 0\n",
    "    for i in range(N):\n",
    "        for j in range(N):\n",
    "            sum += spins[i, j]*(spins[(i+1)%N, j] + spins[(i-1)%N, j] + spins[(i), (j-1)%N] + spins[(i), (j+1)%N])\n",
    "    return -sum/2\n",
    "\n",
    "#Función que devuelve la probabilidad \n",
    "def probability (energy, T, k):\n",
    "    return np.exp((-energy)/(k*T))\n",
    "\n",
    "#Función que devuelve la magnetización del sistema\n",
    "def magnetization (spins, N):\n",
    "    sum = 0\n",
    "    for i in range(N):\n",
    "        for j in range(N):\n",
    "            sum += spins[i, j]\n",
    "    return sum/(N**2)\n",
    "\n",
    "#Función que devuelve el promedio de la magnetización\n",
    "def total_magnetization (T, N, time, dt, k):\n",
    "    step = dt * N**2\n",
    "    n_data = int(time/dt)\n",
    "\n",
    "    spins = init_spins(N)\n",
    "    all_spins = np.zeros((n_data, N, N))\n",
    "    prob = np.zeros(n_data)\n",
    "    m = np.zeros(n_data)\n",
    "\n",
    "    z = 0\n",
    "    M = 0\n",
    "\n",
    "    i =0\n",
    "    while (i < n_data):\n",
    "        j = 0\n",
    "        mag = 0\n",
    "        while (j < step):\n",
    "            spins = moves_spin(spins, N, T)\n",
    "            mag += magnetization(spins, N)\n",
    "            j+=1\n",
    "        all_spins[i] = spins\n",
    "        ener = energy(spins, N)\n",
    "        m[i] = mag/step\n",
    "        prob[i]=probability(ener, T, k)\n",
    "        M += m[i]*prob[i]\n",
    "        z += prob[i]\n",
    "        i+=1\n",
    "\n",
    "    return M/z"
   ]
  },
  {
   "cell_type": "code",
   "execution_count": 3,
   "metadata": {},
   "outputs": [
    {
     "ename": "KeyboardInterrupt",
     "evalue": "",
     "output_type": "error",
     "traceback": [
      "\u001b[0;31m---------------------------------------------------------------------------\u001b[0m",
      "\u001b[0;31mKeyboardInterrupt\u001b[0m                         Traceback (most recent call last)",
      "Cell \u001b[0;32mIn[3], line 11\u001b[0m\n\u001b[1;32m      9\u001b[0m i \u001b[38;5;241m=\u001b[39m \u001b[38;5;241m0\u001b[39m\n\u001b[1;32m     10\u001b[0m \u001b[38;5;28;01mwhile\u001b[39;00m(i \u001b[38;5;241m<\u001b[39m \u001b[38;5;28mlen\u001b[39m(T)):\n\u001b[0;32m---> 11\u001b[0m     mag[i] \u001b[38;5;241m=\u001b[39m \u001b[43mtotal_magnetization\u001b[49m\u001b[43m(\u001b[49m\u001b[43mT\u001b[49m\u001b[43m[\u001b[49m\u001b[43mi\u001b[49m\u001b[43m]\u001b[49m\u001b[43m,\u001b[49m\u001b[43m \u001b[49m\u001b[43mN\u001b[49m\u001b[43m,\u001b[49m\u001b[43m \u001b[49m\u001b[43mtime\u001b[49m\u001b[43m,\u001b[49m\u001b[43m \u001b[49m\u001b[43mdt\u001b[49m\u001b[43m,\u001b[49m\u001b[43m \u001b[49m\u001b[43mk\u001b[49m\u001b[43m)\u001b[49m\n\u001b[1;32m     12\u001b[0m     i\u001b[38;5;241m+\u001b[39m\u001b[38;5;241m=\u001b[39m\u001b[38;5;241m1\u001b[39m\n\u001b[1;32m     14\u001b[0m fig\u001b[38;5;241m=\u001b[39mplt\u001b[38;5;241m.\u001b[39mfigure(figsize\u001b[38;5;241m=\u001b[39m(\u001b[38;5;241m7\u001b[39m,\u001b[38;5;241m7\u001b[39m)) \u001b[38;5;66;03m#Size of the plot\u001b[39;00m\n",
      "Cell \u001b[0;32mIn[2], line 56\u001b[0m, in \u001b[0;36mtotal_magnetization\u001b[0;34m(T, N, time, dt, k)\u001b[0m\n\u001b[1;32m     54\u001b[0m \u001b[38;5;28;01mwhile\u001b[39;00m (j \u001b[38;5;241m<\u001b[39m step):\n\u001b[1;32m     55\u001b[0m     spins \u001b[38;5;241m=\u001b[39m moves_spin(spins, N, T)\n\u001b[0;32m---> 56\u001b[0m     mag \u001b[38;5;241m+\u001b[39m\u001b[38;5;241m=\u001b[39m \u001b[43mmagnetization\u001b[49m\u001b[43m(\u001b[49m\u001b[43mspins\u001b[49m\u001b[43m,\u001b[49m\u001b[43m \u001b[49m\u001b[43mN\u001b[49m\u001b[43m)\u001b[49m\n\u001b[1;32m     57\u001b[0m     j\u001b[38;5;241m+\u001b[39m\u001b[38;5;241m=\u001b[39m\u001b[38;5;241m1\u001b[39m\n\u001b[1;32m     58\u001b[0m all_spins[i] \u001b[38;5;241m=\u001b[39m spins\n",
      "Cell \u001b[0;32mIn[2], line 34\u001b[0m, in \u001b[0;36mmagnetization\u001b[0;34m(spins, N)\u001b[0m\n\u001b[1;32m     32\u001b[0m \u001b[38;5;28;01mfor\u001b[39;00m i \u001b[38;5;129;01min\u001b[39;00m \u001b[38;5;28mrange\u001b[39m(N):\n\u001b[1;32m     33\u001b[0m     \u001b[38;5;28;01mfor\u001b[39;00m j \u001b[38;5;129;01min\u001b[39;00m \u001b[38;5;28mrange\u001b[39m(N):\n\u001b[0;32m---> 34\u001b[0m         \u001b[38;5;28msum\u001b[39m \u001b[38;5;241m+\u001b[39m\u001b[38;5;241m=\u001b[39m spins[i, j]\n\u001b[1;32m     35\u001b[0m \u001b[38;5;28;01mreturn\u001b[39;00m \u001b[38;5;28msum\u001b[39m\u001b[38;5;241m/\u001b[39m(N\u001b[38;5;241m*\u001b[39m\u001b[38;5;241m*\u001b[39m\u001b[38;5;241m2\u001b[39m)\n",
      "\u001b[0;31mKeyboardInterrupt\u001b[0m: "
     ]
    }
   ],
   "source": [
    "N = 8\n",
    "T = np.arange(0.5, 5, 0.5)\n",
    "k=1\n",
    "time = 10**6\n",
    "dt = 100\n",
    "\n",
    "mag = np.zeros(len(T))\n",
    "\n",
    "i = 0\n",
    "while(i < len(T)):\n",
    "    mag[i] = total_magnetization(T[i], N, time, dt, k)\n",
    "    i+=1\n",
    "\n",
    "fig=plt.figure(figsize=(7,7)) #Size of the plot\n",
    "ax=fig.add_subplot(111)\n",
    "for i in range(len(T)):\n",
    "    plt.scatter(T[i], mag[i], label = f'{T[i]}')\n",
    "plt.legend()\n",
    "plt.grid()\n",
    "\n",
    "fig.savefig(\"{}.png\".format('obligatoria2/magnetizacion'))"
   ]
  },
  {
   "cell_type": "code",
   "execution_count": null,
   "metadata": {},
   "outputs": [
    {
     "ename": "NameError",
     "evalue": "name 'a' is not defined",
     "output_type": "error",
     "traceback": [
      "\u001b[0;31m---------------------------------------------------------------------------\u001b[0m",
      "\u001b[0;31mNameError\u001b[0m                                 Traceback (most recent call last)",
      "Cell \u001b[0;32mIn[107], line 1\u001b[0m\n\u001b[0;32m----> 1\u001b[0m im\u001b[38;5;241m=\u001b[39mplt\u001b[38;5;241m.\u001b[39mimshow(\u001b[43ma\u001b[49m,interpolation\u001b[38;5;241m=\u001b[39m\u001b[38;5;124m'\u001b[39m\u001b[38;5;124mnone\u001b[39m\u001b[38;5;124m'\u001b[39m)\n\u001b[1;32m      3\u001b[0m \u001b[38;5;28;01mdef\u001b[39;00m \u001b[38;5;21minit\u001b[39m():\n\u001b[1;32m      4\u001b[0m     im\u001b[38;5;241m.\u001b[39mset_data(np\u001b[38;5;241m.\u001b[39mrandom\u001b[38;5;241m.\u001b[39mrandom((\u001b[38;5;241m5\u001b[39m,\u001b[38;5;241m5\u001b[39m)))\n",
      "\u001b[0;31mNameError\u001b[0m: name 'a' is not defined"
     ]
    }
   ],
   "source": [
    "im=plt.imshow(a,interpolation='none')\n",
    "\n",
    "def init():\n",
    "    im.set_data(np.random.random((5,5)))\n",
    "    return [im]\n",
    "\n",
    "def animate(i):\n",
    "    im.set_array(a)\n",
    "    return [im]"
   ]
  }
 ],
 "metadata": {
  "kernelspec": {
   "display_name": "base",
   "language": "python",
   "name": "python3"
  },
  "language_info": {
   "codemirror_mode": {
    "name": "ipython",
    "version": 3
   },
   "file_extension": ".py",
   "mimetype": "text/x-python",
   "name": "python",
   "nbconvert_exporter": "python",
   "pygments_lexer": "ipython3",
   "version": "3.10.13"
  }
 },
 "nbformat": 4,
 "nbformat_minor": 2
}
