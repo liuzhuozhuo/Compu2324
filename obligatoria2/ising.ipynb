{
 "cells": [
  {
   "cell_type": "markdown",
   "metadata": {},
   "source": [
    "Importamos los módulos necesarios "
   ]
  },
  {
   "cell_type": "code",
   "execution_count": 13,
   "metadata": {},
   "outputs": [],
   "source": [
    "import numpy as np\n",
    "import matplotlib.pyplot as plt\n",
    "from numba import jit\n",
    "from matplotlib.animation import FuncAnimation"
   ]
  },
  {
   "cell_type": "markdown",
   "metadata": {},
   "source": [
    "Definimos las funciones necesarias para el programa"
   ]
  },
  {
   "cell_type": "code",
   "execution_count": 14,
   "metadata": {},
   "outputs": [],
   "source": [
    "#Inicializa las posiciones iniciales aleatorios\n",
    "@jit(nopython=True)\n",
    "def init_spins (N):\n",
    "    spins = np.random.choice(np.array([-1, 1]), (N,N))\n",
    "    return spins\n",
    "\n",
    "#Función que cambia el valor del spin\n",
    "@jit(nopython=True)\n",
    "def moves_spin (spins, N, T):\n",
    "    #generate a random position\n",
    "    pos = np.random.randint(0, N, size=(1, 2))[0]\n",
    "    d_energy = 2*spins[pos[0], pos[1]]*(spins[(pos[0]+1)%N, pos[1]] + spins[(pos[0]-1)%N, pos[1]] + spins[(pos[0]), (pos[1]-1)%N] + spins[(pos[0]), (pos[1]+1)%N] )\n",
    "    p = min(1, np.exp(-d_energy/T))\n",
    "    xi = np.random.rand()\n",
    "    if(xi < p):\n",
    "        spins[pos[0], pos[1]] = -spins[pos[0], pos[1]]\n",
    "    return spins\n",
    "\n",
    "#Función que genera los puntos para ser usado en la animación de ising\n",
    "@jit(nopython=True)\n",
    "def ising (N, T, n_data, dt):\n",
    "    step = dt * N**2\n",
    "\n",
    "    spins = init_spins(N)\n",
    "    all_spins = np.zeros((n_data, N, N))\n",
    "\n",
    "    i =0\n",
    "    while (i < n_data):\n",
    "        j = 0\n",
    "        mag = 0\n",
    "        while (j < step):\n",
    "            spins = moves_spin(spins, N, T)\n",
    "            mag += magnetization(spins, N)\n",
    "            j+=1\n",
    "        all_spins[i] = spins\n",
    "        i+=1\n",
    "    return all_spins, mag\n",
    "\n",
    "\n",
    "#Función que devuelve la energía del sistema\n",
    "@jit(nopython=True)\n",
    "def energy(spins, N):\n",
    "    sum = 0\n",
    "    for i in range(N):\n",
    "        for j in range(N):\n",
    "            sum += spins[i, j]*(spins[(i+1)%N, j] + spins[(i-1)%N, j] + spins[(i), (j-1)%N] + spins[(i), (j+1)%N])\n",
    "    return -sum/2\n",
    "\n",
    "#Función que devuelve la probabilidad \n",
    "@jit(nopython=True)\n",
    "def probability (energy, T, k):\n",
    "    return np.exp((-energy)/(k*T))\n",
    "\n",
    "#Función que devuelve la magnetización del sistema\n",
    "@jit(nopython=True)\n",
    "def magnetization (spins, N):\n",
    "    sum = 0\n",
    "    for i in range(N):\n",
    "        for j in range(N):\n",
    "            sum += spins[i, j]\n",
    "    return sum/(N**2)\n",
    "\n",
    "#Función que devuelve el promedio de la magnetización\n",
    "@jit(nopython=True)\n",
    "def total_magnetization (T, N, time, dt, k):\n",
    "    step = dt * N**2\n",
    "    n_data = int(time/dt)\n",
    "\n",
    "    spins = init_spins(N)\n",
    "    all_spins = np.zeros((n_data, N, N))\n",
    "    prob = np.zeros(n_data)\n",
    "    m = np.zeros(n_data)\n",
    "\n",
    "    z = 0\n",
    "    M = 0\n",
    "\n",
    "    i =0\n",
    "    while (i < n_data):\n",
    "        j = 0\n",
    "        mag = 0\n",
    "        while (j < step):\n",
    "            spins = moves_spin(spins, N, T)\n",
    "            mag += magnetization(spins, N)\n",
    "            j+=1\n",
    "        all_spins[i] = spins\n",
    "        ener = energy(spins, N)\n",
    "        m[i] = mag/step\n",
    "        prob[i]=probability(ener, T, k)\n",
    "        M += m[i]*prob[i]\n",
    "        z += prob[i]\n",
    "        i+=1\n",
    "\n",
    "    return M/z"
   ]
  },
  {
   "cell_type": "code",
   "execution_count": 15,
   "metadata": {},
   "outputs": [],
   "source": [
    "N = 8\n",
    "T = np.arange(0.5, 5, 0.5)\n",
    "k = 1\n",
    "time_ising = 10**3\n",
    "dt_ising = 1\n",
    "n_data = int(time_ising/dt_ising)\n",
    "ising_data = np.zeros((len(T), n_data, N, N))"
   ]
  },
  {
   "cell_type": "code",
   "execution_count": 16,
   "metadata": {},
   "outputs": [],
   "source": [
    "i = 0\n",
    "while (i < len(T)):\n",
    "    ising_data[i], = ising(N, T[i], n_data, dt_ising)\n",
    "    i +=1"
   ]
  },
  {
   "cell_type": "code",
   "execution_count": 17,
   "metadata": {},
   "outputs": [],
   "source": [
    "time = 10**6\n",
    "dt = 100\n",
    "\n",
    "mag = np.zeros(len(T))\n",
    "\n",
    "i = 0\n",
    "while(i < len(T)):\n",
    "    mag[i] = total_magnetization(T[i], N, time, dt, k)\n",
    "    i+=1"
   ]
  },
  {
   "cell_type": "code",
   "execution_count": 18,
   "metadata": {},
   "outputs": [
    {
     "data": {
      "image/png": "[encoded data removed]",
      "text/plain": [
       "<Figure size 700x700 with 1 Axes>"
      ]
     },
     "metadata": {},
     "output_type": "display_data"
    }
   ],
   "source": [
    "fig=plt.figure(figsize=(7,7)) #Size of the plot\n",
    "ax=fig.add_subplot(111)\n",
    "for i in range(len(T)):\n",
    "    plt.scatter(T[i], abs(mag[i]), label = f'{T[i]}')\n",
    "plt.legend()\n",
    "plt.grid()\n",
    "\n",
    "fig.savefig(\"{}.png\".format(f'magnetizacion_{N}'))"
   ]
  },
  {
   "cell_type": "code",
   "execution_count": 19,
   "metadata": {},
   "outputs": [],
   "source": [
    "def update(j_frame, frames_data, im):\n",
    "    # Actualiza el gráfico con la configuración del sistema\n",
    "    im.set_data(frames_data[j_frame])\n",
    "\n",
    "    return im,\n",
    "\n",
    "fig=plt.figure(figsize=(7,7)) #Size of the plot\n",
    "ax=fig.add_subplot(111)\n",
    "\n",
    "i = 0\n",
    "while (i < len(T)):\n",
    "    im = ax.imshow(ising_data[i][0], cmap=\"binary\", vmin=-1, vmax=+1)\n",
    "    animation = FuncAnimation(\n",
    "            fig, update,\n",
    "            fargs=(ising_data[i], im), frames=len(ising_data[i]), blit=True, interval=10)\n",
    "    animation.save(\"{}.mp4\".format(f\"video/N_{N}T_{(i+1)*0.5}\"), dpi=100)\n",
    "    i+=1\n",
    "\n",
    "plt.close()"
   ]
  }
 ],
 "metadata": {
  "kernelspec": {
   "display_name": "base",
   "language": "python",
   "name": "python3"
  },
  "language_info": {
   "codemirror_mode": {
    "name": "ipython",
    "version": 3
   },
   "file_extension": ".py",
   "mimetype": "text/x-python",
   "name": "python",
   "nbconvert_exporter": "python",
   "pygments_lexer": "ipython3",
   "version": "3.10.13"
  }
 },
 "nbformat": 4,
 "nbformat_minor": 2
}
