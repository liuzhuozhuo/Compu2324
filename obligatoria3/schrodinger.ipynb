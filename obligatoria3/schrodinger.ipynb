{
 "cells": [
  {
   "cell_type": "code",
   "execution_count": 128,
   "metadata": {},
   "outputs": [],
   "source": [
    "import numpy as np\n",
    "from numba import jit\n",
    "import matplotlib.pyplot as plt\n",
    "from matplotlib.animation import FuncAnimation\n",
    "from matplotlib.animation import FFMpegWriter"
   ]
  },
  {
   "cell_type": "code",
   "execution_count": 129,
   "metadata": {},
   "outputs": [],
   "source": [
    "@jit(nopython = True)\n",
    "def init_wave_func(k0_prime, N, n_cicles):\n",
    "    psi = np.zeros((n_cicles, N), dtype = np.cdouble)\n",
    "    i = 1\n",
    "    while(i < N-1):\n",
    "        psi[0, i] = np.exp(1j*k0_prime*i)*np.exp((-8*(4*i-N)**2)/N**2)\n",
    "        i += 1\n",
    "    return psi\n",
    "\n",
    "@jit(nopython = True)\n",
    "def init_potential(k0_prime, lamb, N):\n",
    "    V_prime = np.zeros(N)\n",
    "    i = int(2*N/5)\n",
    "    while(i < 3*N/5):\n",
    "        V_prime[i] = lamb*k0_prime**2\n",
    "        i += 1\n",
    "    return V_prime\n",
    "\n",
    "@jit(nopython = True)\n",
    "def compute_norm(psi, n):\n",
    "    return np.linalg.norm(psi[n])\n",
    "    \n",
    "@jit(nopython = True)\n",
    "def compute_alpha(V_prime, s_prime, N):\n",
    "    alpha = np.zeros(N, dtype = np.cdouble)\n",
    "    i = N-1\n",
    "    while(i > 0):\n",
    "        alpha[i-1] = -1/(2+(2j/s_prime)-V_prime[i]+alpha[i])\n",
    "        i -= 1\n",
    "    return alpha\n",
    "\n",
    "@jit(nopython = True)\n",
    "def compute_beta(psi, alpha, V_prime, s_prime, N, n):\n",
    "    b = np.zeros(N, dtype = np.cdouble)\n",
    "    beta = np.zeros(N, dtype = np.cdouble)\n",
    "    i = 0\n",
    "    while(i < N):\n",
    "        b[i] = 4j*psi[n][i]/s_prime\n",
    "        i +=1\n",
    "    i = N-1\n",
    "    while(i > 0):\n",
    "        beta[i-1] = (b[i]-beta[i])/(2+(2j/s_prime)-V_prime[i]+alpha[i])\n",
    "        i -= 1  \n",
    "    return beta     \n",
    "\n",
    "@jit(nopython = True)\n",
    "def compute_chi(alpha, beta, N):\n",
    "    chi = np.zeros(N, dtype = np.cdouble)\n",
    "    i = 0\n",
    "    while(i < N):\n",
    "        chi[i+1] = alpha[i]*chi[i] + beta[i]\n",
    "        i += 1\n",
    "    return chi\n",
    "\n",
    "@jit(nopython = True)\n",
    "def compute_wave_func(psi, chi, n):\n",
    "    psi[n+1] = chi - psi[n]\n",
    "    return psi\n",
    "\n",
    "@jit(nopython = True)\n",
    "def iterative_process(n_cicles, N, s, h, lamb):\n",
    "    s_prime = s/h**2\n",
    "    k0_prime = 2*np.pi*2/N\n",
    "\n",
    "    psi = init_wave_func(k0_prime, N, n_cicles)\n",
    "    V_prime = init_potential(k0_prime, lamb, N)\n",
    "    alpha = compute_alpha(V_prime, s_prime, N)\n",
    "\n",
    "    norm = np.zeros(n_cicles)\n",
    "\n",
    "    i = 0\n",
    "    while(i < n_cicles-1):\n",
    "        beta = compute_beta(psi, alpha, V_prime, s_prime, N, i)\n",
    "        chi = compute_chi(alpha, beta, N)\n",
    "        psi = compute_wave_func(psi, chi, i)\n",
    "        norm[i] = compute_norm(psi, i)\n",
    "        i += 1\n",
    "    return psi, norm\n",
    "\n",
    "@jit(nopython = True)\n",
    "def prob_density(psi, N, n_cicles):\n",
    "    prob = np.zeros((n_cicles, N))\n",
    "    i = 0\n",
    "    while(i < n_cicles):\n",
    "        prob[i] = np.absolute(psi[i])\n",
    "        i += 1\n",
    "    return prob\n"
   ]
  },
  {
   "cell_type": "code",
   "execution_count": 130,
   "metadata": {},
   "outputs": [
    {
     "name": "stdout",
     "output_type": "stream",
     "text": [
      "[[0.00000000e+00 3.57588383e-04 3.81075896e-04 ... 9.55983986e-32\n",
      "  7.89485259e-32 0.00000000e+00]\n",
      " [0.00000000e+00 3.25595823e-04 4.16194373e-04 ... 1.04701368e-31\n",
      "  6.33647379e-32 2.91254658e-32]\n",
      " [0.00000000e+00 2.65928674e-04 4.45397820e-04 ... 1.03359208e-31\n",
      "  4.49971274e-32 4.25079451e-32]\n",
      " ...\n",
      " [0.00000000e+00 2.98793459e-05 5.99297539e-05 ... 6.96166538e-06\n",
      "  1.63769055e-06 9.30613860e-06]\n",
      " [0.00000000e+00 2.98579875e-05 5.99088393e-05 ... 9.17377604e-06\n",
      "  1.64276752e-06 8.26499570e-06]\n",
      " [0.00000000e+00 2.98448328e-05 5.98780727e-05 ... 1.03166747e-05\n",
      "  1.64338570e-06 7.53224689e-06]]\n"
     ]
    }
   ],
   "source": [
    "N= 1000\n",
    "n_cicles = 1000\n",
    "s = 0.0001\n",
    "h = 0.01\n",
    "lamb = 0.3\n",
    "\n",
    "psi, norm = iterative_process(n_cicles, N, s, h, lamb)\n",
    "prob = prob_density(psi, N, n_cicles)\n",
    "print(prob)"
   ]
  },
  {
   "cell_type": "code",
   "execution_count": 131,
   "metadata": {},
   "outputs": [
    {
     "data": {
      "image/png": "[encoded data removed]",
      "text/plain": [
       "<Figure size 700x700 with 1 Axes>"
      ]
     },
     "metadata": {},
     "output_type": "display_data"
    }
   ],
   "source": [
    "fig=plt.figure(figsize=(7,7)) #Size of the plot\n",
    "ax=fig.add_subplot(111)\n",
    "\n",
    "x = np.linspace(0, 1, N)\n",
    "line, = ax.plot(x, prob[0])\n",
    "plt.grid()\n",
    "\n",
    "def animate (i, prob, line):\n",
    "    line.set_ydata(prob[i])\n",
    "    return line,\n",
    "\n",
    "FFwriter = FFMpegWriter(fps=60, extra_args=['-vcodec', 'libx264'])\n",
    "\n",
    "animation = FuncAnimation(fig, animate, fargs=(prob, line), frames=n_cicles, blit=True, interval=10)\n",
    "\n",
    "animation.save(\"{}.mp4\".format(f\"schrodinger\"), dpi=100, writer = FFwriter)"
   ]
  }
 ],
 "metadata": {
  "kernelspec": {
   "display_name": "base",
   "language": "python",
   "name": "python3"
  },
  "language_info": {
   "codemirror_mode": {
    "name": "ipython",
    "version": 3
   },
   "file_extension": ".py",
   "mimetype": "text/x-python",
   "name": "python",
   "nbconvert_exporter": "python",
   "pygments_lexer": "ipython3",
   "version": "3.10.13"
  }
 },
 "nbformat": 4,
 "nbformat_minor": 2
}
