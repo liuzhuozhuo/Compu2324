{
 "cells": [
  {
   "cell_type": "markdown",
   "metadata": {},
   "source": [
    "Nota: Este código ha sido escrito con la ayuda de GitHub Copilot, principalmente las sugerencias de autocompletar. Siendo esta una módficación de apartado_1.ipynb, solo se incluirá comentarios para las modificaciones frente a la original."
   ]
  },
  {
   "cell_type": "code",
   "execution_count": 72,
   "metadata": {},
   "outputs": [],
   "source": [
    "import numpy as np\n",
    "from numba import jit\n",
    "import pandas as pd\n",
    "import matplotlib.pyplot as plt"
   ]
  },
  {
   "cell_type": "markdown",
   "metadata": {},
   "source": [
    "Se reduce el número de partículas a 16."
   ]
  },
  {
   "cell_type": "code",
   "execution_count": 73,
   "metadata": {},
   "outputs": [],
   "source": [
    "N = 16\n",
    "L = 10.0\n",
    "h = 0.002\n",
    "\n",
    "v_0 = 5\n",
    "\n",
    "epsilon = 1\n",
    "sigma = 1\n",
    "m = 1\n",
    "k=1\n",
    "\n",
    "skip = 5\n",
    "\n",
    "Time = 50\n",
    "time = np.arange(0, Time, h)\n",
    "\n",
    "f = open(f\"datos_apartado_3/posiciones_{v_0}.txt\", \"w\")\n",
    "f_energia = open(f\"datos_apartado_3/energias_{v_0}.txt\", \"w\")\n",
    "f_velocidad = open(f\"datos_apartado_3/velocidades_{v_0}.txt\", \"w\")"
   ]
  },
  {
   "cell_type": "markdown",
   "metadata": {},
   "source": [
    "Se sigue empleando la misma notación, los únicos cambios introducidos seria:\n",
    "- En las condiciones de contorno, se ha añadido una variable bool, que devuelve si la partícula considerada en el bucle, ha cruzado la frontera. Además de quitar la aleatoriedad en las posiciones iniciales.\n",
    "- En el algoritmo de verlet se ha introducido una variable, que va sumando el momento transferido en dicho instante de tiempo."
   ]
  },
  {
   "cell_type": "code",
   "execution_count": 74,
   "metadata": {},
   "outputs": [],
   "source": [
    "@jit(nopython=True)\n",
    "def init_cond():\n",
    "    r = np.zeros((N, 2))\n",
    "    v =np.zeros((N, 2))\n",
    "    for i in range(N):\n",
    "        r[i] = np.array([i%4*2.5 +1, i//4*2.5 +1])\n",
    "        theta = np.random.rand()*2*np.pi\n",
    "        v[i] = v_0 * np.array([np.sin(theta), np.cos(theta)])\n",
    "    return r, v\n",
    "\n",
    "@jit(nopython=True)\n",
    "def cond_contorno(r):\n",
    "    Cond = False\n",
    "    if(r[0] > L):\n",
    "        r[0] = r[0] - L\n",
    "        Cond = True\n",
    "    if(r[0] < 0):\n",
    "        r[0] = r[0] + L\n",
    "        Cond = True\n",
    "    if(r[1] > L):\n",
    "        r[1] = r[1] - L\n",
    "        Cond = True\n",
    "    if(r[1] < 0):\n",
    "        r[1] = r[1] + L\n",
    "        Cond = True\n",
    "    return r, Cond\n",
    "\n",
    "@jit(nopython=True)\n",
    "def cond_contorno_distancia(r):\n",
    "    if(r[0] > L/2):\n",
    "        r[0] = r[0] - L\n",
    "    elif(r[0] < -L/2):\n",
    "        r[0] = r[0] + L\n",
    "    if(r[1] > L/2):\n",
    "        r[1] = r[1] - L\n",
    "    elif(r[1] < -L/2):\n",
    "        r[1] = r[1] + L\n",
    "    return r\n",
    "\n",
    "@jit(nopython=True)\n",
    "def compute_distance(r):\n",
    "    R = np.zeros((N, N, 2))\n",
    "    for i in range(0, N-1):\n",
    "        for j in range(i+1, N):\n",
    "            R[i, j] = r[j]- r[i]\n",
    "            R[i, j] = cond_contorno_distancia(R[i, j])\n",
    "            R[j, i] = -R[i, j]\n",
    "    return R\n",
    "\n",
    "@jit(nopython=True)\n",
    "def lennard_jones(r):\n",
    "    R = compute_distance(r)\n",
    "    acc = np.zeros((N, 2))\n",
    "    for i in range(N):\n",
    "        for j in range(N):\n",
    "            if(i!=j):\n",
    "                norm  = np.linalg.norm(R[i, j])\n",
    "                if (norm < 3):\n",
    "                    acc[i] = acc[i] + 4*R[i, j]* epsilon * (6*np.power((sigma/norm), 5) - 12*np.power((sigma/norm), 11))/(norm*m)\n",
    "    return acc, R\n",
    "\n",
    "@jit(nopython=True)\n",
    "def verlet_algorithm(r, v, a):\n",
    "    w = np.zeros((N, 2))\n",
    "    p = 0\n",
    "    for i in range(N):\n",
    "        r[i] = r[i] + h*v[i] + h*h*a[i]/2\n",
    "        r[i], Cond = cond_contorno(r[i])\n",
    "        if(Cond):\n",
    "            p = p+2*m*np.linalg.norm(v[i])\n",
    "        w[i] = v[i] + h*a[i]/2\n",
    "    a, R = lennard_jones(r)\n",
    "    for i in range(N):\n",
    "        v[i] = w[i] + h*a[i]/2\n",
    "    return r, v, a, R, p\n",
    "\n",
    "@jit(nopython=True)\n",
    "def compute_energy(v, R):\n",
    "    T = 0\n",
    "    V = 0\n",
    "    for i in range(N):\n",
    "        T = T + 0.5*m*np.linalg.norm(v[i])**2\n",
    "        for j in range(N):\n",
    "            if(i!=j):\n",
    "                norm  = np.linalg.norm(R[i, j])\n",
    "                V = V + 4*epsilon * (np.power((sigma/norm), 12) - np.power((sigma/norm), 6))\n",
    "    return T, V\n",
    "\n",
    "@jit(nopython=True)\n",
    "def compute_average_speed(v):\n",
    "    v_prom = 0\n",
    "    for i in range(N):\n",
    "        v_prom = v_prom + np.linalg.norm(v[i])\n",
    "    return v_prom/N\n",
    "\n",
    "\n",
    "def write_vector(r, f):\n",
    "    for i in range(N):\n",
    "        f.write(f\"{r[i, 0]}, {r[i, 1]}\\n\")\n",
    "    f.write(f\"\\n\")\n",
    "\n",
    "def write_velocity(v, f):\n",
    "    for i in range(N):\n",
    "        f.write(f\"{v[i, 0]}, {v[i, 1]}, {np.linalg.norm(v[i])}\\n\")"
   ]
  },
  {
   "cell_type": "markdown",
   "metadata": {},
   "source": [
    "Se ha añadido el momento transderido a la pared, sumando a todos los instantes de tiempo, tenemos el momento total transferido. La fuerza ejercida sería el momento total transferido entre el tiempo total considerado. Que en este caso solo se ha empezado a tomar en cuenta cuando el sistema se he relajado.\n",
    "\n",
    "Para hallar la presión, dividimos la fuerza por el área, sin embargo en este caso al estar en 2 dimensiones, sería la longitud del cuadrado."
   ]
  },
  {
   "cell_type": "code",
   "execution_count": 75,
   "metadata": {},
   "outputs": [],
   "source": [
    "T, V = np.zeros(len(time)), np.zeros(len(time))\n",
    "momento = 0\n",
    "\n",
    "r, v = init_cond()\n",
    "write_vector(r, f)\n",
    "a, R = lennard_jones(r)\n",
    "T[0], V[0] = compute_energy(v, R)\n",
    "f_energia.write(f\"{T[0]}, {V[0]}\\n\")\n",
    "\n",
    "for i in range(1, len(time)):\n",
    "    r, v, a, R, p = verlet_algorithm(r, v, a)\n",
    "    T[i], V[i] = compute_energy(v, R)\n",
    "    if (i%skip == 0):\n",
    "        write_vector(r, f)\n",
    "    if(i >= int(20/h)):\n",
    "        momento = momento + p\n",
    "        write_velocity(v, f_velocidad)\n",
    "    f_energia.write(f\"{T[i]}, {V[i]}\\n\")\n",
    "\n",
    "F = momento/(Time-20)\n",
    "\n",
    "f.close()\n",
    "f_velocidad.close()\n",
    "f_energia.close()"
   ]
  },
  {
   "cell_type": "markdown",
   "metadata": {},
   "source": [
    "Se lee el archivo de las velocidades para hallar la temperatura del sistema, y se añade al archivo la velocidad inicial, la temperatura y la presión del sistema."
   ]
  },
  {
   "cell_type": "code",
   "execution_count": 76,
   "metadata": {},
   "outputs": [],
   "source": [
    "velocidad = pd.read_csv(f'datos_apartado_3/velocidades_{v_0}.txt', delimiter=',', index_col=False, header=0 ,names=['vx', 'vy', 'v'])\n",
    "\n",
    "Temp = m/(2*k)*np.mean(velocidad.v**2)\n",
    "\n",
    "f_pressure = open(f\"datos_apartado_3/pressure.txt\", \"a\")\n",
    "f_pressure.write(f\"{v_0}, {Temp}, {F/L} \\n\")\n",
    "f_pressure.close()"
   ]
  }
 ],
 "metadata": {
  "kernelspec": {
   "display_name": "base",
   "language": "python",
   "name": "python3"
  },
  "language_info": {
   "codemirror_mode": {
    "name": "ipython",
    "version": 3
   },
   "file_extension": ".py",
   "mimetype": "text/x-python",
   "name": "python",
   "nbconvert_exporter": "python",
   "pygments_lexer": "ipython3",
   "version": "3.11.7"
  }
 },
 "nbformat": 4,
 "nbformat_minor": 2
}
