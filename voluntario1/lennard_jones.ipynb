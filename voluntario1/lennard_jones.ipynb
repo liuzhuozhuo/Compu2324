{
 "cells": [
  {
   "cell_type": "code",
   "execution_count": null,
   "metadata": {},
   "outputs": [],
   "source": [
    "import numpy as np\n",
    "from numba import jit"
   ]
  },
  {
   "cell_type": "code",
   "execution_count": null,
   "metadata": {},
   "outputs": [],
   "source": [
    "N = 20\n",
    "L = 10"
   ]
  },
  {
   "cell_type": "markdown",
   "metadata": {},
   "source": [
    "Definir funciones para el programa:\n",
    "\n",
    "Notación:\n",
    "- L, indica la longitud de la caja\n",
    "- T, tiempo total a calcular\n",
    "- r, vector con posiciones de las partículas. Tiene dimensiones (N, 2), con N el número de partículas\n",
    "- R, matriz con la distancia entre partículas"
   ]
  },
  {
   "cell_type": "code",
   "execution_count": null,
   "metadata": {},
   "outputs": [],
   "source": [
    "@jit(nopython = True)\n",
    "def cond_contorno(r):\n",
    "    return r%L\n",
    "\n",
    "@jit(nopython = True)\n",
    "def lennard_jones(r):\n",
    "    R = compute_distance(r)\n",
    "    \n",
    "\n",
    "\n",
    "    return 0\n",
    "\n",
    "def compute_distance(r):\n",
    "    R = np.zeros((N, N, 2))\n",
    "    for i in range(1, N):\n",
    "        for j in range(i, N):\n",
    "            R[i, j] = r[j]- r[i]\n",
    "            angle = np.arctan(R[i, j, 1]/R[i, j, 0])\n",
    "            max_length = abs(L/np.cos(angle%(np.pi/4)))\n",
    "            norm = np.linalg.norm(R[i, j])\n",
    "            if(norm > max_length):\n",
    "                R[i, j] =  -R[i, j] *(max_length - norm) / norm\n",
    "            R[j, i] = R[i, j]\n",
    "    return R\n"
   ]
  },
  {
   "cell_type": "code",
   "execution_count": null,
   "metadata": {},
   "outputs": [],
   "source": []
  }
 ],
 "metadata": {
  "kernelspec": {
   "display_name": "base",
   "language": "python",
   "name": "python3"
  },
  "language_info": {
   "name": "python",
   "version": "3.10.13"
  }
 },
 "nbformat": 4,
 "nbformat_minor": 2
}
