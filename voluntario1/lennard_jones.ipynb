{
 "cells": [
  {
   "cell_type": "code",
   "execution_count": 667,
   "metadata": {},
   "outputs": [],
   "source": [
    "import numpy as np\n",
    "from numba import jit\n",
    "from numba import njit\n",
    "import matplotlib.pyplot as plt"
   ]
  },
  {
   "cell_type": "code",
   "execution_count": 668,
   "metadata": {},
   "outputs": [],
   "source": [
    "N = 20\n",
    "L = 10.0\n",
    "h = 0.002\n",
    "epsilon = 1\n",
    "sigma = 1\n",
    "m = 1\n",
    "v_0 = 1\n",
    "\n",
    "T = 50\n",
    "time = np.arange(0, T, h)\n",
    "f = open(\"datos.txt\", \"w\")"
   ]
  },
  {
   "cell_type": "markdown",
   "metadata": {},
   "source": [
    "Definir funciones para el programa:\n",
    "\n",
    "Notación:\n",
    "- L, indica la longitud de la caja\n",
    "- T, tiempo total a calcular\n",
    "- r, matriz con posiciones de las partículas. Tiene dimensiones (N, 2), con N el número de partículas\n",
    "- R, matriz con la distancia entre partículas"
   ]
  },
  {
   "cell_type": "code",
   "execution_count": 669,
   "metadata": {},
   "outputs": [],
   "source": [
    "def init_cond():\n",
    "    r = np.zeros((N, 2))\n",
    "    v =np.zeros((N, 2))\n",
    "    for i in range(N):\n",
    "        r[i] = np.array([i%(L/2)*2+1, i%4*2 +1 ]) + 1* np.random.rand(1, 2)[0]\n",
    "        # r[i] = np.array([i%(L/2)*2+1, i%4*2.5 +1 ])\n",
    "        theta = np.random.rand()*2*np.pi\n",
    "        v[i] = v_0 * np.array([np.sin(theta), np.cos(theta)])\n",
    "    return r, v\n",
    "\n",
    "def cond_contorno(r):\n",
    "    if(r[0] > L):\n",
    "        r[0] = r[0] - L\n",
    "    if(r[0] < 0):\n",
    "        r[0] = r[0] + L\n",
    "    if(r[1] > L):\n",
    "        r[1] = r[1] - L\n",
    "    if(r[1] < 0):\n",
    "        r[1] = r[1] + L\n",
    "    return r\n",
    "\n",
    "def cond_contorno_distancia(r):\n",
    "    if(r[0] > L/2):\n",
    "        r[0] = r[0] - L\n",
    "    if(r[0] < -L/2):\n",
    "        r[0] = r[0] + L\n",
    "    if(r[1] > L/2):\n",
    "        r[1] = r[1] - L\n",
    "    if(r[1] < -L/2):\n",
    "        r[1] = r[1] + L\n",
    "    return r\n",
    "\n",
    "def lennard_jones(r):\n",
    "    R = compute_distance(r)\n",
    "    acc = np.zeros((N, 2))\n",
    "    for i in range(N):\n",
    "        for j in range(N):\n",
    "            if(i!=j):\n",
    "                norm  = np.linalg.norm(R[i, j])\n",
    "                if (norm < 3):\n",
    "                    acc[i] = acc[i] + 4*R[i, j]* epsilon * (6*np.power((sigma/norm), 5) - 12*np.power((sigma/norm), 11))/(norm*m)\n",
    "    return acc\n",
    "\n",
    "def compute_distance(r):\n",
    "    R = np.zeros((N, N, 2))\n",
    "    for i in range(0, N-1):\n",
    "        for j in range(i+1, N):\n",
    "            R[i, j] = r[j]- r[i]\n",
    "            R[i, j] = cond_contorno_distancia(R[i, j])\n",
    "            R[j, i] = -R[i, j]\n",
    "    return R\n",
    "\n",
    "def verlet_algorithm(r, v, a):\n",
    "    w = np.zeros((N, 2))\n",
    "    for i in range(N):\n",
    "        r[i] = r[i] + h*v[i] + h*h*a[i]/2\n",
    "        r[i] = cond_contorno(r[i])\n",
    "        w[i] = v[i] + h*a[i]/2\n",
    "    a = lennard_jones(r)\n",
    "    for i in range(N):\n",
    "        v[i] = w[i] + h*a[i]/2\n",
    "    return r, v, a\n",
    "\n",
    "def write_vector(r):\n",
    "    for i in range(N):\n",
    "        f.write(f\"{r[i, 0]}, {r[i, 1]}\\n\")\n",
    "    f.write(f\"\\n\")"
   ]
  },
  {
   "cell_type": "code",
   "execution_count": 670,
   "metadata": {},
   "outputs": [
    {
     "data": {
      "image/png": "[encoded data removed]",
      "text/plain": [
       "<Figure size 500x500 with 1 Axes>"
      ]
     },
     "metadata": {},
     "output_type": "display_data"
    }
   ],
   "source": [
    "r, v = init_cond()\n",
    "write_vector(r)\n",
    "a = lennard_jones(r)\n",
    "fig=plt.figure(figsize=(5,5)) #Size of the plot\n",
    "ax=fig.add_subplot(111)\n",
    "plt_xlim = (0, L)\n",
    "plt_ylim = (0, L)\n",
    "plt.scatter(r[:,0], r[:,1], s=1000)\n",
    "\n",
    "for i in range(len(time)):\n",
    "    r, v, a = verlet_algorithm(r, v, a)\n",
    "    write_vector(r)"
   ]
  }
 ],
 "metadata": {
  "kernelspec": {
   "display_name": "base",
   "language": "python",
   "name": "python3"
  },
  "language_info": {
   "codemirror_mode": {
    "name": "ipython",
    "version": 3
   },
   "file_extension": ".py",
   "mimetype": "text/x-python",
   "name": "python",
   "nbconvert_exporter": "python",
   "pygments_lexer": "ipython3",
   "version": "3.10.13"
  }
 },
 "nbformat": 4,
 "nbformat_minor": 2
}
